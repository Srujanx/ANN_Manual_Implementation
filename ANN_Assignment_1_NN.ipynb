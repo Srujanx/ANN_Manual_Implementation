{
 "cells": [
  {
   "cell_type": "code",
   "execution_count": 1,
   "id": "daebd35d-4e28-417d-80dd-b8652098002b",
   "metadata": {},
   "outputs": [],
   "source": [
    "import numpy as np\n",
    "import matplotlib.pyplot as plt"
   ]
  },
  {
   "cell_type": "code",
   "execution_count": 2,
   "id": "3e9d99b7-20be-452e-af7a-b8804a4e5461",
   "metadata": {},
   "outputs": [],
   "source": [
    "# Given\n",
    "i1= .05 \n",
    "i2= .03\n",
    "o1= -.01 \n",
    "o2= .09 \n",
    "b1= -.25 \n",
    "b2= .16 \n",
    "w1= .15 \n",
    "w2= .20 \n",
    "w3= -.02 \n",
    "w4= .30 \n",
    "w5= -.14 \n",
    "w6= .45 \n",
    "w7= -.15 \n",
    "w8= .55 "
   ]
  },
  {
   "cell_type": "code",
   "execution_count": 3,
   "id": "0899de1c-aa70-4fcc-9417-c1c621c94c30",
   "metadata": {},
   "outputs": [
    {
     "data": {
      "text/plain": [
       "0.05"
      ]
     },
     "execution_count": 3,
     "metadata": {},
     "output_type": "execute_result"
    }
   ],
   "source": [
    "i1"
   ]
  },
  {
   "cell_type": "code",
   "execution_count": 4,
   "id": "759460e6-faa8-48ae-8abb-c2c256648de0",
   "metadata": {},
   "outputs": [],
   "source": [
    "def sig(x):\n",
    "    return 1/(1+np.exp(-x))"
   ]
  },
  {
   "cell_type": "code",
   "execution_count": 5,
   "id": "957b6383-79a7-4eb0-ba62-d62bfd8b29b2",
   "metadata": {},
   "outputs": [
    {
     "data": {
      "text/plain": [
       "0.5"
      ]
     },
     "execution_count": 5,
     "metadata": {},
     "output_type": "execute_result"
    }
   ],
   "source": [
    "sig(0)"
   ]
  },
  {
   "cell_type": "markdown",
   "id": "2dc6d1e1-f54b-4857-8aaa-f156688d5e23",
   "metadata": {},
   "source": [
    "# Forward Pass"
   ]
  },
  {
   "cell_type": "code",
   "execution_count": 7,
   "id": "c9dd4d25-6f2b-4a04-8545-fe4e4831e325",
   "metadata": {},
   "outputs": [
    {
     "data": {
      "text/plain": [
       "0.4411490501347074"
      ]
     },
     "execution_count": 7,
     "metadata": {},
     "output_type": "execute_result"
    }
   ],
   "source": [
    "net_h1 = i1*w1 + i2*w2 + b1\n",
    "h1 = sig(net_h1)\n",
    "h1"
   ]
  },
  {
   "cell_type": "code",
   "execution_count": 8,
   "id": "69660a86-bbf1-43e1-befa-ab06a93caa26",
   "metadata": {},
   "outputs": [
    {
     "data": {
      "text/plain": [
       "0.4397935411918067"
      ]
     },
     "execution_count": 8,
     "metadata": {},
     "output_type": "execute_result"
    }
   ],
   "source": [
    "net_h2 = i1*w3 + i2*w4 + b1\n",
    "h2 = sig(net_h2)\n",
    "h2"
   ]
  },
  {
   "cell_type": "code",
   "execution_count": 9,
   "id": "771f15f1-e794-4309-ab09-7b3d3db7df4b",
   "metadata": {},
   "outputs": [
    {
     "data": {
      "text/plain": [
       "0.5735001606713042"
      ]
     },
     "execution_count": 9,
     "metadata": {},
     "output_type": "execute_result"
    }
   ],
   "source": [
    "net_o1 = h1*w5 + h2*w6 + b2\n",
    "out1 = sig(net_o1)\n",
    "out1"
   ]
  },
  {
   "cell_type": "code",
   "execution_count": 10,
   "id": "0839f831-154f-473d-aa08-6db24a3a590f",
   "metadata": {},
   "outputs": [
    {
     "data": {
      "text/plain": [
       "0.5831490499840167"
      ]
     },
     "execution_count": 10,
     "metadata": {},
     "output_type": "execute_result"
    }
   ],
   "source": [
    "net_o2 = h2*w8 + h1*w7 + b2\n",
    "out2 = sig(net_o2)\n",
    "out2"
   ]
  },
  {
   "cell_type": "code",
   "execution_count": 23,
   "id": "b04f6d11-b86e-4bc7-9c65-695e4079ea56",
   "metadata": {},
   "outputs": [
    {
     "data": {
      "text/plain": [
       "0.291834211501788"
      ]
     },
     "execution_count": 23,
     "metadata": {},
     "output_type": "execute_result"
    }
   ],
   "source": [
    "E = 1/2 *((o1 - out1)**2 + (o2 - out2)**2)\n",
    "E"
   ]
  },
  {
   "cell_type": "markdown",
   "id": "0b52a549-5867-4787-a7a1-d6fa1fdf8bc9",
   "metadata": {},
   "source": [
    "# Backpropogation"
   ]
  },
  {
   "cell_type": "code",
   "execution_count": 40,
   "id": "b79591d1-ea53-4f82-8998-a21bb465945f",
   "metadata": {},
   "outputs": [],
   "source": [
    "def sig_dev(x):\n",
    "    return x * (1 - x)"
   ]
  },
  {
   "cell_type": "code",
   "execution_count": 80,
   "id": "77e0d92d-03d1-477e-b487-d1c3e129348f",
   "metadata": {},
   "outputs": [
    {
     "data": {
      "text/plain": [
       "0.14272281264331985"
      ]
     },
     "execution_count": 80,
     "metadata": {},
     "output_type": "execute_result"
    }
   ],
   "source": [
    "delta_o1 = (out1 - o1) * sig_dev(out1)\n",
    "delta_o1"
   ]
  },
  {
   "cell_type": "code",
   "execution_count": 82,
   "id": "d37e7d02-cb83-4afa-8693-ab048141df0f",
   "metadata": {},
   "outputs": [
    {
     "data": {
      "text/plain": [
       "0.11987774609448444"
      ]
     },
     "execution_count": 82,
     "metadata": {},
     "output_type": "execute_result"
    }
   ],
   "source": [
    "delta_o2 = (out2 - o2) * sig_dev(out2)\n",
    "delta_o2"
   ]
  },
  {
   "cell_type": "code",
   "execution_count": 84,
   "id": "9c477c14-68a9-48cc-81b4-191d21729f59",
   "metadata": {},
   "outputs": [
    {
     "data": {
      "text/plain": [
       "0.06296203323015435"
      ]
     },
     "execution_count": 84,
     "metadata": {},
     "output_type": "execute_result"
    }
   ],
   "source": [
    "dw5 = delta_o1 * h1\n",
    "dw5"
   ]
  },
  {
   "cell_type": "code",
   "execution_count": 86,
   "id": "f807c863-814a-4708-86dc-b83a45703168",
   "metadata": {},
   "outputs": [
    {
     "data": {
      "text/plain": [
       "0.06276857118126039"
      ]
     },
     "execution_count": 86,
     "metadata": {},
     "output_type": "execute_result"
    }
   ],
   "source": [
    "dw6 = delta_o1 * h2\n",
    "dw6"
   ]
  },
  {
   "cell_type": "code",
   "execution_count": 88,
   "id": "db928e38-86ab-47db-a403-7f737ab291ef",
   "metadata": {},
   "outputs": [
    {
     "data": {
      "text/plain": [
       "0.05288395382187144"
      ]
     },
     "execution_count": 88,
     "metadata": {},
     "output_type": "execute_result"
    }
   ],
   "source": [
    "dw7 = delta_o2 * h1\n",
    "dw7"
   ]
  },
  {
   "cell_type": "code",
   "execution_count": 90,
   "id": "a523e419-8b31-461f-abf7-54aa736c7e79",
   "metadata": {},
   "outputs": [
    {
     "data": {
      "text/plain": [
       "0.052721458464985584"
      ]
     },
     "execution_count": 90,
     "metadata": {},
     "output_type": "execute_result"
    }
   ],
   "source": [
    "dw8 = delta_o2 * h2\n",
    "dw8"
   ]
  },
  {
   "cell_type": "code",
   "execution_count": 92,
   "id": "c31ed9b6-fa16-47cb-b82f-c79987cbfcaa",
   "metadata": {},
   "outputs": [
    {
     "data": {
      "text/plain": [
       "0.2626005587378043"
      ]
     },
     "execution_count": 92,
     "metadata": {},
     "output_type": "execute_result"
    }
   ],
   "source": [
    "db2 = delta_o1 + delta_o2\n",
    "db2"
   ]
  },
  {
   "cell_type": "code",
   "execution_count": 94,
   "id": "e6a061e5-9550-46c9-a211-aafbc8cfe96a",
   "metadata": {},
   "outputs": [
    {
     "data": {
      "text/plain": [
       "-0.00047883921378334563"
      ]
     },
     "execution_count": 94,
     "metadata": {},
     "output_type": "execute_result"
    }
   ],
   "source": [
    "dw1 = i1 * (delta_o1*w5 + delta_o2*w7) * sig_dev(h1)\n",
    "dw1"
   ]
  },
  {
   "cell_type": "code",
   "execution_count": 96,
   "id": "ae43b1f3-9ede-4bfe-90f0-5a0ec949f330",
   "metadata": {},
   "outputs": [
    {
     "data": {
      "text/plain": [
       "-0.0002873035282700073"
      ]
     },
     "execution_count": 96,
     "metadata": {},
     "output_type": "execute_result"
    }
   ],
   "source": [
    "dw2 = i2 * (delta_o1*w5 + delta_o2*w7) * sig_dev(h1)\n",
    "dw2"
   ]
  },
  {
   "cell_type": "code",
   "execution_count": 98,
   "id": "3aa03eda-f84c-4522-871e-f4b4e6a32f6a",
   "metadata": {},
   "outputs": [
    {
     "data": {
      "text/plain": [
       "0.0015925482812713864"
      ]
     },
     "execution_count": 98,
     "metadata": {},
     "output_type": "execute_result"
    }
   ],
   "source": [
    "dw3 = i1 * (delta_o1*w6 + delta_o2*w8) * sig_dev(h2)\n",
    "dw3"
   ]
  },
  {
   "cell_type": "code",
   "execution_count": 100,
   "id": "940c4d58-d2bc-47ce-bef6-b4c12b556d05",
   "metadata": {},
   "outputs": [
    {
     "data": {
      "text/plain": [
       "0.0009555289687628318"
      ]
     },
     "execution_count": 100,
     "metadata": {},
     "output_type": "execute_result"
    }
   ],
   "source": [
    "dw4 = i2 * (delta_o1*w6 + delta_o2*w8) * sig_dev(h2)\n",
    "dw4"
   ]
  },
  {
   "cell_type": "code",
   "execution_count": 120,
   "id": "3ef2d9ad-3ab2-4102-b335-796e7d8a6d90",
   "metadata": {},
   "outputs": [
    {
     "data": {
      "text/plain": [
       "-0.0006006131145383862"
      ]
     },
     "execution_count": 120,
     "metadata": {},
     "output_type": "execute_result"
    }
   ],
   "source": [
    "db1 = (delta_o1*w5 + delta_o2*w7) * sig_dev(h1) + (delta_o1*w6 + delta_o2*w8) * sig_dev(h2)\n",
    "db1"
   ]
  },
  {
   "cell_type": "code",
   "execution_count": 122,
   "id": "9721fd62-4731-4d1f-bd9a-4fc9035676e8",
   "metadata": {},
   "outputs": [],
   "source": [
    "# update weights\n",
    "lr = 0.5\n",
    "w1 -= lr * dw1\n",
    "w2 -= lr * dw2\n",
    "w3 -= lr * dw3\n",
    "w4 -= lr * dw4\n",
    "w5 -= lr * dw5\n",
    "w6 -= lr * dw6\n",
    "w7 -= lr * dw7\n",
    "w8 -= lr * dw8\n",
    "b1 -= lr * db1\n",
    "b2 -= lr * db2"
   ]
  },
  {
   "cell_type": "code",
   "execution_count": 126,
   "id": "d109dd57-de1a-41f6-a804-67143885537a",
   "metadata": {},
   "outputs": [
    {
     "data": {
      "image/png": "[encoded data removed]",
      "text/plain": [
       "<Figure size 1200x500 with 2 Axes>"
      ]
     },
     "metadata": {},
     "output_type": "display_data"
    }
   ],
   "source": [
    "errors = []\n",
    "outputs_o1 = []\n",
    "outputs_o2 = []\n",
    "epochs = 200\n",
    "for i in range(epochs):\n",
    "    net_h1 = i1*w1 + i2*w2 + b1\n",
    "    h1 = sig(net_h1)\n",
    "    net_h2 = i1*w3 + i2*w4 + b1\n",
    "    h2 = sig(net_h2)\n",
    "    net_o1 = h1*w5 + h2*w6 + b2\n",
    "    out1 = sig(net_o1)\n",
    "    net_o2 = h2*w8 + h1*w7 + b2\n",
    "    out2 = sig(net_o2)\n",
    "    E = 1/2 *((o1 - out1)**2 + (o2 - out2)**2)\n",
    "    errors.append(E)\n",
    "    outputs_o1.append(out1)\n",
    "    outputs_o2.append(out2)\n",
    "    \n",
    "    delta_o1 = (out1 - o1) * sig_dev(out1)\n",
    "    delta_o2 = (out2 - o2) * sig_dev(out2)\n",
    "    dw5 = delta_o1 * h1  \n",
    "    dw6 = delta_o1 * h2\n",
    "    dw7 = delta_o2 * h1\n",
    "    dw8 = delta_o2 * h2\n",
    "    db2 = delta_o1 + delta_o2\n",
    "    dw1 = i1 * (delta_o1*w5 + delta_o2*w7) * sig_dev(h1)\n",
    "    dw2 = i2 * (delta_o1*w5 + delta_o2*w7) * sig_dev(h1)\n",
    "    dw3 = i1 * (delta_o1*w6 + delta_o2*w8) * sig_dev(h2)\n",
    "    dw4 = i2 * (delta_o1*w6 + delta_o2*w8) * sig_dev(h2)\n",
    "    db1 = (delta_o1*w5 + delta_o2*w7) * sig_dev(h1) + (delta_o1*w6 + delta_o2*w8)\n",
    "    lr = 0.5\n",
    "    w1 -= lr * dw1\n",
    "    w2 -= lr * dw2\n",
    "    w3 -= lr * dw3\n",
    "    w4 -= lr * dw4\n",
    "    w5 -= lr * dw5\n",
    "    w6 -= lr * dw6\n",
    "    w7 -= lr * dw7\n",
    "    w8 -= lr * dw8\n",
    "    b1 -= lr * db1\n",
    "    b2 -= lr * db2\n",
    "    \n",
    "\n",
    "plt.figure(figsize=(12,5))\n",
    "\n",
    "plt.subplot(1,2,1)\n",
    "plt.plot(range(epochs), errors, label=\"Total Error\", color=\"red\")\n",
    "plt.xlabel(\"Epoch\")\n",
    "plt.ylabel(\"Error\")\n",
    "plt.title(\"Error Reduction During Training\")\n",
    "plt.legend()\n",
    "plt.grid(True)\n",
    "\n",
    "# 2) Outputs vs Targets\n",
    "plt.subplot(1,2,2)\n",
    "plt.plot(range(epochs), outputs_o1, label=\"o1 output\", color=\"blue\")\n",
    "plt.plot(range(epochs), outputs_o2, label=\"o2 output\", color=\"green\")\n",
    "plt.axhline(y=out1, color=\"blue\", linestyle=\"--\", label=\"o1 target\")\n",
    "plt.axhline(y=out2, color=\"green\", linestyle=\"--\", label=\"o2 target\")\n",
    "plt.xlabel(\"Epoch\")\n",
    "plt.ylabel(\"Output Value\")\n",
    "plt.title(\"Outputs Converging to Targets\")\n",
    "plt.legend()\n",
    "plt.grid(True)\n",
    "\n",
    "plt.tight_layout()\n",
    "plt.show()\n"
   ]
  },
  {
   "cell_type": "code",
   "execution_count": 132,
   "id": "43d2da93-d308-4fa2-aa6c-b880cceccba8",
   "metadata": {},
   "outputs": [
    {
     "name": "stdout",
     "output_type": "stream",
     "text": [
      "\n",
      "Final Weights & Biases (after training):\n",
      "w1=0.17179 w2=0.21307 w3=-0.02098 w4=0.29941\n",
      "w5=-1.25030 w6=-0.51222 w7=-0.26430 w8=0.48263\n",
      "b1=0.08304 b2=-2.61479\n",
      "Final outputs: o1=0.02826 (target=-0.01), o2=0.07576 (target=0.09)\n",
      "Final Total Error = 0.00083\n"
     ]
    }
   ],
   "source": [
    "# Final values\n",
    "print(\"\\nFinal Weights & Biases (after training):\")\n",
    "print(\"w1=%.5f w2=%.5f w3=%.5f w4=%.5f\" % (w1, w2, w3, w4))\n",
    "print(\"w5=%.5f w6=%.5f w7=%.5f w8=%.5f\" % (w5, w6, w7, w8))\n",
    "print(\"b1=%.5f b2=%.5f\" % (b1, b2))\n",
    "print(\"Final outputs: o1=%.5f (target=%.2f), o2=%.5f (target=%.2f)\" % (out1, o1, out2, o2))\n",
    "print(\"Final Total Error =\", round(E,5))"
   ]
  },
  {
   "cell_type": "code",
   "execution_count": null,
   "id": "b3f1f535-e8e6-412e-9fd9-c2f46f4817d6",
   "metadata": {},
   "outputs": [],
   "source": []
  }
 ],
 "metadata": {
  "kernelspec": {
   "display_name": "Python [conda env:base] *",
   "language": "python",
   "name": "conda-base-py"
  },
  "language_info": {
   "codemirror_mode": {
    "name": "ipython",
    "version": 3
   },
   "file_extension": ".py",
   "mimetype": "text/x-python",
   "name": "python",
   "nbconvert_exporter": "python",
   "pygments_lexer": "ipython3",
   "version": "3.12.7"
  }
 },
 "nbformat": 4,
 "nbformat_minor": 5
}
